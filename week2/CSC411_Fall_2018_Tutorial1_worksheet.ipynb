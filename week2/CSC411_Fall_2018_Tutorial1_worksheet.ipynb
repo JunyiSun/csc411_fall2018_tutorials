{
 "cells": [
  {
   "cell_type": "code",
   "execution_count": 10,
   "metadata": {},
   "outputs": [],
   "source": [
    "import numpy as np\n",
    "import time"
   ]
  },
  {
   "cell_type": "markdown",
   "metadata": {},
   "source": [
    "For this exercise you will be provided with a problem and and asked to construct two solutions.  The first solution should be without numpy and the second with numpy.  The vectorized forms with numpy should perform magnitudes more quickly."
   ]
  },
  {
   "cell_type": "code",
   "execution_count": 11,
   "metadata": {},
   "outputs": [],
   "source": [
    "arg_size = 1000000\n",
    "\n",
    "arg = np.array([i for i in range(arg_size)])  # An argument for our functions."
   ]
  },
  {
   "cell_type": "markdown",
   "metadata": {},
   "source": [
    "<b>Problem 1</b>:  Construct a function which takes an array, and returns an array with each element doubled."
   ]
  },
  {
   "cell_type": "code",
   "execution_count": 12,
   "metadata": {},
   "outputs": [
    {
     "name": "stdout",
     "output_type": "stream",
     "text": [
      "Runtime: 0.23711776733398438\n"
     ]
    }
   ],
   "source": [
    "def doubler(x):\n",
    "    \"\"\"Take an array and return an array with each element doubled.  This version does not use numpy.\n",
    "    \n",
    "    :param x: An array of numbers.\n",
    "    :return: An array of doubled numbers.\n",
    "    \"\"\"  \n",
    "    new_x = [None] * len(x)\n",
    "    for i in range(len(x)):\n",
    "        new_x[i] = x[i] * 2\n",
    "    return new_x\n",
    "\n",
    "start_time = time.time()\n",
    "assert doubler(arg)[:5] == [0, 2, 4, 6, 8]\n",
    "print(f\"Runtime: {time.time() - start_time}\")"
   ]
  },
  {
   "cell_type": "code",
   "execution_count": 13,
   "metadata": {},
   "outputs": [
    {
     "name": "stdout",
     "output_type": "stream",
     "text": [
      "Runtime: 0.0012269020080566406\n"
     ]
    }
   ],
   "source": [
    "def doubler_vectorized(x):\n",
    "    \"\"\"Take an array and return an array with each element doubled.  This version uses numpy.\n",
    "    \n",
    "    :param x: An array of numbers.\n",
    "    :return: An array of doubled numbers.\n",
    "    \"\"\" \n",
    "    return x * 2\n",
    "\n",
    "start_time = time.time()\n",
    "assert (doubler_vectorized(arg)[:5] == [0, 2, 4, 6, 8]).all()\n",
    "print(f\"Runtime: {time.time() - start_time}\")"
   ]
  },
  {
   "cell_type": "markdown",
   "metadata": {},
   "source": [
    "<b>Problem 2</b>: Compute the elementwise summation of two vectors a and b with indentical shapes."
   ]
  },
  {
   "cell_type": "code",
   "execution_count": 14,
   "metadata": {},
   "outputs": [
    {
     "name": "stdout",
     "output_type": "stream",
     "text": [
      "Runtime: 0.24205708503723145\n"
     ]
    }
   ],
   "source": [
    "def adder(a, b):\n",
    "    \"\"\"Take two arrays and return an array with their elementwise addition.  This version does not use numpy.\n",
    "    \n",
    "    :param a: An array of numbers.\n",
    "    :param b: An array of numbers.\n",
    "    :return: An array of the elementwise addition of a and b.\n",
    "    \"\"\" \n",
    "    c = [None] * len(a)\n",
    "    for i in range(len(a)):\n",
    "        c[i] = a[i] + b[i]\n",
    "    return c\n",
    "            \n",
    "start_time = time.time()\n",
    "assert adder(arg, arg)[:5] == [0, 2, 4, 6, 8]\n",
    "print(f\"Runtime: {time.time() - start_time}\")"
   ]
  },
  {
   "cell_type": "code",
   "execution_count": 15,
   "metadata": {},
   "outputs": [
    {
     "name": "stdout",
     "output_type": "stream",
     "text": [
      "Runtime: 0.0013661384582519531\n"
     ]
    }
   ],
   "source": [
    "def adder_vectorized(a, b):\n",
    "    \"\"\"Take two arrays and return an array with their elementwise addition.  This version uses numpy.\n",
    "    \n",
    "    :param a: An array of numbers.\n",
    "    :param b: An array of numbers.\n",
    "    :return: An array of the elementwise addition of a and b.\n",
    "    \"\"\"\n",
    "    return a + b\n",
    "\n",
    "start_time = time.time()\n",
    "assert (adder_vectorized(arg, arg)[:5] == [0, 2, 4, 6, 8]).all()\n",
    "print(f\"Runtime: {time.time() - start_time}\")"
   ]
  }
 ],
 "metadata": {
  "kernelspec": {
   "display_name": "Python 3",
   "language": "python",
   "name": "python3"
  },
  "language_info": {
   "codemirror_mode": {
    "name": "ipython",
    "version": 3
   },
   "file_extension": ".py",
   "mimetype": "text/x-python",
   "name": "python",
   "nbconvert_exporter": "python",
   "pygments_lexer": "ipython3",
   "version": "3.7.0"
  }
 },
 "nbformat": 4,
 "nbformat_minor": 2
}
