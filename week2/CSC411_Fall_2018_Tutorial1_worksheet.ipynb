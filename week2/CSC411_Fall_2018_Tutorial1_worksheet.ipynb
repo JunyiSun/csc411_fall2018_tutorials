{
 "cells": [
  {
   "cell_type": "code",
   "execution_count": 159,
   "metadata": {},
   "outputs": [],
   "source": [
    "import numpy as np\n",
    "import time"
   ]
  },
  {
   "cell_type": "markdown",
   "metadata": {},
   "source": [
    "For this exercise you will be provided with a problem and an example solution.  Your goal is to convert the example solution to a vectorized solution using numpy.  The vectorized forms should perform magnitudes more quickly."
   ]
  },
  {
   "cell_type": "code",
   "execution_count": 170,
   "metadata": {},
   "outputs": [],
   "source": [
    "arg_size = 1000000\n",
    "\n",
    "arg_vector = np.array([i for i in range(arg_size)])\n",
    "\n",
    "row_size = int(np.sqrt(arg_size))\n",
    "arg_matrix = np.matrix(np.arange(arg_size).reshape(row_size, row_size))"
   ]
  },
  {
   "cell_type": "markdown",
   "metadata": {},
   "source": [
    "<b>Problem 1</b>:  Construct a function which takes an array, and returns an array with each element doubled."
   ]
  },
  {
   "cell_type": "code",
   "execution_count": 169,
   "metadata": {},
   "outputs": [
    {
     "name": "stdout",
     "output_type": "stream",
     "text": [
      "Runtime: 0.23929715156555176\n"
     ]
    }
   ],
   "source": [
    "# Example Solution\n",
    "def doubler(x):\n",
    "    new_x = [None] * len(x)\n",
    "    for i in range(len(x)):\n",
    "        new_x[i] = x[i] * 2\n",
    "    return new_x\n",
    "\n",
    "start_time = time.time()\n",
    "assert doubler(arg_vector)[:5] == [0, 2, 4, 6, 8]\n",
    "print(f\"Runtime: {time.time() - start_time}\")"
   ]
  },
  {
   "cell_type": "code",
   "execution_count": 162,
   "metadata": {},
   "outputs": [
    {
     "name": "stdout",
     "output_type": "stream",
     "text": [
      "Runtime: 0.0012142658233642578\n"
     ]
    }
   ],
   "source": [
    "# TODO\n",
    "def doubler_vectorized(x):\n",
    "    return x * 2\n",
    "\n",
    "start_time = time.time()\n",
    "assert (doubler_vectorized(arg_vector)[:5] == [0, 2, 4, 6, 8]).all()\n",
    "print(f\"Runtime: {time.time() - start_time}\")"
   ]
  },
  {
   "cell_type": "markdown",
   "metadata": {},
   "source": [
    "<b>Problem 2</b>: Compute the elementwise summation of two vectors a and b with indentical shapes."
   ]
  },
  {
   "cell_type": "code",
   "execution_count": 167,
   "metadata": {},
   "outputs": [
    {
     "name": "stdout",
     "output_type": "stream",
     "text": [
      "Runtime: 0.23346304893493652\n"
     ]
    }
   ],
   "source": [
    "# Example Solution\n",
    "def adder(a, b):\n",
    "    c = [None] * len(a)\n",
    "    for i in range(len(a)):\n",
    "        c[i] = a[i] + b[i]\n",
    "    return c\n",
    "            \n",
    "start_time = time.time()\n",
    "assert adder(arg_vector, arg_vector)[:5] == [0, 2, 4, 6, 8]\n",
    "print(f\"Runtime: {time.time() - start_time}\")"
   ]
  },
  {
   "cell_type": "code",
   "execution_count": 168,
   "metadata": {},
   "outputs": [
    {
     "name": "stdout",
     "output_type": "stream",
     "text": [
      "Runtime: 0.0012748241424560547\n"
     ]
    }
   ],
   "source": [
    "# TODO\n",
    "def adder_vectorized(a, b):\n",
    "    return a + b\n",
    "\n",
    "start_time = time.time()\n",
    "assert (adder_vectorized(arg_vector, arg_vector)[:5] == [0, 2, 4, 6, 8]).all()\n",
    "print(f\"Runtime: {time.time() - start_time}\")"
   ]
  },
  {
   "cell_type": "markdown",
   "metadata": {},
   "source": [
    "<b>Problem 3</b>: Compute the elementwise exponentiation of a matrix M to power p."
   ]
  },
  {
   "cell_type": "code",
   "execution_count": 165,
   "metadata": {},
   "outputs": [
    {
     "name": "stdout",
     "output_type": "stream",
     "text": [
      "Runtime: 0.749366044998169\n"
     ]
    }
   ],
   "source": [
    "# Example Solution\n",
    "def exponentiater(M, p):\n",
    "    num_rows = M.shape[0]\n",
    "    num_cols = M.shape[1]\n",
    "    C = np.zeros((num_rows, num_cols))\n",
    "    for i in range(num_rows):\n",
    "        for j in range(num_cols):\n",
    "            C[i, j] = pow(M[i, j], 2)\n",
    "    return C\n",
    "\n",
    "start_time = time.time()\n",
    "assert (exponentiater(arg_matrix, 2)[0, :5] == [[0, 1, 4, 9, 16]]).all()\n",
    "print(f\"Runtime: {time.time() - start_time}\")"
   ]
  },
  {
   "cell_type": "code",
   "execution_count": 166,
   "metadata": {},
   "outputs": [
    {
     "name": "stdout",
     "output_type": "stream",
     "text": [
      "Runtime: 0.003355264663696289\n"
     ]
    }
   ],
   "source": [
    "# TODO\n",
    "def exponentiater_vectorized(M, p):\n",
    "    return np.power(M, p)\n",
    "\n",
    "start_time = time.time()\n",
    "assert (exponentiater_vectorized(arg_matrix, 2)[0, :5] == [[0, 1, 4, 9, 16]]).all()\n",
    "print(f\"Runtime: {time.time() - start_time}\")"
   ]
  }
 ],
 "metadata": {
  "kernelspec": {
   "display_name": "Python 3",
   "language": "python",
   "name": "python3"
  },
  "language_info": {
   "codemirror_mode": {
    "name": "ipython",
    "version": 3
   },
   "file_extension": ".py",
   "mimetype": "text/x-python",
   "name": "python",
   "nbconvert_exporter": "python",
   "pygments_lexer": "ipython3",
   "version": "3.7.0"
  }
 },
 "nbformat": 4,
 "nbformat_minor": 2
}
