{
 "cells": [
  {
   "cell_type": "code",
   "execution_count": 13,
   "metadata": {},
   "outputs": [],
   "source": [
    "import numpy as np\n",
    "import time"
   ]
  },
  {
   "cell_type": "markdown",
   "metadata": {},
   "source": [
    "For this exercise you will be provided with a problem and and asked to construct two solutions.  The first solution should be without numpy and the second with numpy.  The vectorized forms with numpy should perform magnitudes more quickly."
   ]
  },
  {
   "cell_type": "code",
   "execution_count": 14,
   "metadata": {},
   "outputs": [
    {
     "name": "stdout",
     "output_type": "stream",
     "text": [
      "Vector argument: [     0      1      2 ... 999997 999998 999999]\n",
      "Matrix argument: [[   0    1    2 ...   97   98   99]\n",
      " [   1    2    3 ...   98   99  100]\n",
      " [   2    3    4 ...   99  100  101]\n",
      " ...\n",
      " [ 997  998  999 ... 1094 1095 1096]\n",
      " [ 998  999 1000 ... 1095 1096 1097]\n",
      " [ 999 1000 1001 ... 1096 1097 1098]]\n"
     ]
    }
   ],
   "source": [
    "arg_length = 1000000\n",
    "arg_vector = np.arange(arg_length)  # An example vector argument.\n",
    "print(f\"Vector argument: {arg}\")\n",
    "\n",
    "num_rows, num_cols = 1000, 100\n",
    "arg_matrix = np.array([[i + j for j in range(num_cols)] for i in range(num_rows)])  # An example matrix argument.\n",
    "print(f\"Matrix argument: {arg_2}\")"
   ]
  },
  {
   "cell_type": "markdown",
   "metadata": {},
   "source": [
    "<b>Problem 1</b>:  Construct a function which takes a vector, and returns an vector with each element doubled."
   ]
  },
  {
   "cell_type": "code",
   "execution_count": 25,
   "metadata": {},
   "outputs": [
    {
     "name": "stdout",
     "output_type": "stream",
     "text": [
      "[0, 2, 4, 6, 8]\n",
      "Runtime: 0.2414090633392334\n"
     ]
    }
   ],
   "source": [
    "def doubler(x):\n",
    "    \"\"\"Take an array and return an array with each element doubled.  This version does not use numpy.\n",
    "    \n",
    "    :param x: An array of numbers.\n",
    "    :return: An array of doubled numbers.\n",
    "    \"\"\"  \n",
    "    new_x = [None] * len(x)\n",
    "    for i in range(len(x)):\n",
    "        new_x[i] = x[i] * 2\n",
    "    return new_x\n",
    "\n",
    "start_time = time.time()\n",
    "print(doubler(arg_vector)[:5])\n",
    "print(f\"Runtime: {time.time() - start_time}\")"
   ]
  },
  {
   "cell_type": "code",
   "execution_count": 26,
   "metadata": {},
   "outputs": [
    {
     "name": "stdout",
     "output_type": "stream",
     "text": [
      "[0 2 4 6 8]\n",
      "Runtime: 0.0014040470123291016\n"
     ]
    }
   ],
   "source": [
    "def doubler_vectorized(x):\n",
    "    \"\"\"Take an array and return an array with each element doubled.  This version uses numpy.\n",
    "    \n",
    "    :param x: An array of numbers.\n",
    "    :return: An array of doubled numbers.\n",
    "    \"\"\" \n",
    "    return x * 2\n",
    "\n",
    "start_time = time.time()\n",
    "print(doubler_vectorized(arg_vector)[:5])\n",
    "print(f\"Runtime: {time.time() - start_time}\")"
   ]
  },
  {
   "cell_type": "markdown",
   "metadata": {},
   "source": [
    "<b>Problem 2</b>: Construct a function which takes two vectors and returns the elementwise summation."
   ]
  },
  {
   "cell_type": "code",
   "execution_count": 28,
   "metadata": {},
   "outputs": [
    {
     "name": "stdout",
     "output_type": "stream",
     "text": [
      "[0, 2, 4, 6, 8]\n",
      "Runtime: 0.23424196243286133\n"
     ]
    }
   ],
   "source": [
    "def adder(a, b):\n",
    "    \"\"\"Take two arrays and return an array with their elementwise addition.  This version does not use numpy.\n",
    "    \n",
    "    :param a: An array of numbers.\n",
    "    :param b: An array of numbers.\n",
    "    :return: An array of the elementwise addition of a and b.\n",
    "    \"\"\" \n",
    "    c = [None] * len(a)\n",
    "    for i in range(len(a)):\n",
    "        c[i] = a[i] + b[i]\n",
    "    return c\n",
    "            \n",
    "start_time = time.time()\n",
    "print(adder(arg_vector, arg_vector)[:5])\n",
    "print(f\"Runtime: {time.time() - start_time}\")"
   ]
  },
  {
   "cell_type": "code",
   "execution_count": 30,
   "metadata": {
    "scrolled": false
   },
   "outputs": [
    {
     "name": "stdout",
     "output_type": "stream",
     "text": [
      "[0 2 4 6 8]\n",
      "Runtime: 0.0013267993927001953\n"
     ]
    }
   ],
   "source": [
    "def adder_vectorized(a, b):\n",
    "    \"\"\"Take two arrays and return an array with their elementwise addition.  This version uses numpy.\n",
    "    \n",
    "    :param a: An array of numbers.\n",
    "    :param b: An array of numbers.\n",
    "    :return: An array of the elementwise addition of a and b.\n",
    "    \"\"\"\n",
    "    return a + b\n",
    "\n",
    "start_time = time.time()\n",
    "print(adder_vectorized(arg, arg)[:5])\n",
    "print(f\"Runtime: {time.time() - start_time}\")"
   ]
  },
  {
   "cell_type": "markdown",
   "metadata": {},
   "source": [
    "<b>Problem 3</b>: Construct a function which takes a matrix and returns the tranpose."
   ]
  },
  {
   "cell_type": "code",
   "execution_count": 40,
   "metadata": {
    "scrolled": true
   },
   "outputs": [
    {
     "name": "stdout",
     "output_type": "stream",
     "text": [
      "[99, 100, 101, 102, 103]\n",
      "Runtime: 0.02034592628479004\n"
     ]
    }
   ],
   "source": [
    "def transposer(A):\n",
    "    \"\"\"Take an mxn matrix (with m,n > 0) and return a nxm matrix with the transpose.\n",
    "    \n",
    "    :param A: A mxn matrix.\n",
    "    :return: A nxm matrix.\n",
    "    \"\"\"  \n",
    "    num_rows_input, num_cols_input = A.shape\n",
    "    A_transpose = [[None] * num_rows_input] * num_cols_input\n",
    "    for i in range(num_rows_input):\n",
    "        for j in range(num_cols_input):\n",
    "            A_transpose[j][i] = A[i, j]\n",
    "    return A_transpose\n",
    "\n",
    "start_time = time.time()\n",
    "print(transposer(arg_2)[0][:5])\n",
    "print(f\"Runtime: {time.time() - start_time}\")"
   ]
  },
  {
   "cell_type": "code",
   "execution_count": 41,
   "metadata": {},
   "outputs": [
    {
     "name": "stdout",
     "output_type": "stream",
     "text": [
      "[99, 100, 101, 102, 103]\n",
      "Runtime: 0.020301103591918945\n"
     ]
    }
   ],
   "source": [
    "def transposer_numpy(A):\n",
    "    \"\"\"Take an mxn matrix (with m,n > 0) and return a nxm matrix with the transpose.\n",
    "    \n",
    "    :param A: A mxn matrix.\n",
    "    :return: A nxm matrix.\n",
    "    \"\"\"  \n",
    "    return A.T\n",
    "\n",
    "start_time = time.time()\n",
    "print(transposer(arg_2)[0][:5])\n",
    "print(f\"Runtime: {time.time() - start_time}\")"
   ]
  }
 ],
 "metadata": {
  "kernelspec": {
   "display_name": "Python 3",
   "language": "python",
   "name": "python3"
  },
  "language_info": {
   "codemirror_mode": {
    "name": "ipython",
    "version": 3
   },
   "file_extension": ".py",
   "mimetype": "text/x-python",
   "name": "python",
   "nbconvert_exporter": "python",
   "pygments_lexer": "ipython3",
   "version": "3.7.0"
  }
 },
 "nbformat": 4,
 "nbformat_minor": 2
}
